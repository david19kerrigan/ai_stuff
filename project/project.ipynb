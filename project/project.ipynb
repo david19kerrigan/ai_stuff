{
 "cells": [
  {
   "cell_type": "code",
   "execution_count": 2,
   "metadata": {},
   "outputs": [],
   "source": [
    "from IPython.display import Image \n",
    "import random\n",
    "import numpy as np\n",
    "from sklearn.preprocessing import normalize\n",
    "import timeit"
   ]
  },
  {
   "cell_type": "markdown",
   "metadata": {
    "Collapsed": "false"
   },
   "source": [
    "# Spell checking using hidden markov models\n",
    "\n",
    "Here is an example of a hidden markov model in which a user has typed a few words which are clearly mispelled."
   ]
  },
  {
   "cell_type": "code",
   "execution_count": 93,
   "metadata": {},
   "outputs": [
    {
     "data": {
      "image/png": "[encoded data removed]",
      "text/plain": [
       "<IPython.core.display.Image object>"
      ]
     },
     "metadata": {},
     "output_type": "display_data"
    }
   ],
   "source": [
    "pil_img = Image(filename='images\\\\01.png')\n",
    "display(pil_img)"
   ]
  },
  {
   "cell_type": "markdown",
   "metadata": {},
   "source": [
    "The hidden variables $v_{1:T}$ are the correctly spelled words and the observed variables $h_{1:T}$ are the mispelled words.  This is a stationary model since transitions are not dependant on time.  In this situation the model will observe all observed variables and will attempt to discern the most likely state of each hidden variable.  This type of problem is called viterbi alignment or most likely hidden state and is the most common use of HMM.  Formally, $argmax_{(h_1:T)}p(h_{1:T}|v_{1:T})$.\n",
    "\n",
    "Recall the equation for the overall distribution \n",
    "$$p(h_{1:T},v_{1:T}) = p(v_1|h_1)p(h_1)\\prod_{t=2}^Tp(v_t|h_t)p(h_t|h_{t-1})$$\n",
    "<br>\n",
    "In adition the distribution for transition between hidden variables $p(h_{t+1}|h_t)$ is defined by the intial distribution of $p(h_1)$ and a transition matrix of dimension $HxH$ where H is the domain of hidden variables.  The transition matrix A is defined by $$A_{i',i}=p(h_{t+1}=i'|h_t=i)$$ with initial distribution $$a_i=p(h_1=i)$$\n",
    "<br>\n",
    "To define these joint and initial distributions we need an n-gram dataset, where n is the length of words in a phrase.  An n-gram dataset essentially shows the popularity of each possible phrase of length n.  The 1-gram set will give initial distributions, 2-gram gives $p(h_2|h_1)$, $p(h_3|h_2)$, ... $p(h_n|h_{n-1})$ and so on.  If this were a second-order markov chain, we would use 3-grams to estimate $p(h_n|h_{n-1}, h_{n-2}), ... p(h_n|h_{n-1},h_{n-2})$  \n",
    "<br>Google provides a dataset constructed from scanning google books, but a user could create one easily by parsing books from gutenberg, splitting on sentences, and sorting n-gram phrases by occurrence.   Below I've shown how this would work it's actually quite simple.  I took 11 books from gutenberg.org\n",
    "\n",
    "Note that I also built a dictionary of every word scanned.  This dictionary will contain a list of many valid English words.  More on that later."
   ]
  },
  {
   "cell_type": "code",
   "execution_count": 3,
   "metadata": {},
   "outputs": [
    {
     "name": "stdout",
     "output_type": "stream",
     "text": [
      "how long did it take to process the books?\n",
      "Runtime:  1.8344590999999966\n",
      "how many times is a common phrase in our bigram?\n",
      "2006\n",
      "how many times is a rare phrase in our bigram?\n",
      "1\n",
      "does our dictionary contain a common word?\n",
      "True\n",
      "does our dictionary contain a rare word?\n",
      "False\n"
     ]
    }
   ],
   "source": [
    "nonwords = ['b','c','d','e','f','g','h','j','k','l','m','n','o','p','q','r','s','t','u','v','w','x','y','z']\n",
    "#use a set and a dictionary because these give an insane runtime\n",
    "dictionary = set([])\n",
    "bigram = {}\n",
    "def constructNGramAndDict(book, dic,dictionary):\n",
    "    #open the book\n",
    "    with open(book, 'r',encoding=\"utf8\") as file:\n",
    "        #strip the punctuation and make an array for each sentence\n",
    "        out = file.read().replace('\\n', ' ')\n",
    "        out = out.replace(\"“\", \" \")\n",
    "        out = out.replace(\"”\", \" \")\n",
    "        out = out.replace(\"\\' \", \" \")\n",
    "        out = out.replace(\" \\'\", \" \")\n",
    "        out = out.replace(\"_\",\"\")\n",
    "        out = out.replace(\"?\",\".\")\n",
    "        out = out.replace(\"--\",\".\")\n",
    "        out = out.replace(\",\",\".\")\n",
    "        out = out.replace(\"!\",\".\")\n",
    "        out = out.replace(\";\",\".\")\n",
    "        out = out.replace(\":\",\".\")\n",
    "        out = out.replace(\"...\",\".\")\n",
    "        data = out.split(\".\")\n",
    "        #for each sentence\n",
    "        for i in data:\n",
    "            sentence = i.rstrip().lstrip().lower().split(\" \")\n",
    "            if len(sentence) > 1:\n",
    "                #go through the sentence and add each two word phrase to the bigram\n",
    "                #if the phrase already exists increment the count\n",
    "                #and add each word to the dictionary\n",
    "                for j in range(len(sentence)-1):\n",
    "                    r = j\n",
    "                    l = j+1\n",
    "                    phrase = sentence[r]+\" \"+sentence[l]\n",
    "                    if phrase in dic:\n",
    "                        dic[phrase] += 1\n",
    "                    else:\n",
    "                        dic[phrase]= 1\n",
    "                    if sentence[r] not in dictionary:\n",
    "                        dictionary.add(sentence[r])\n",
    "                if sentence[-1] not in dictionary:\n",
    "                        dictionary.add(sentence[-1])\n",
    "            else:\n",
    "                if sentence[0] not in dictionary:\n",
    "                        dictionary.add(sentence[-1])\n",
    "#process books\n",
    "start = timeit.default_timer()\n",
    "constructNGramAndDict(\"books\\\\219-0.txt\", bigram, dictionary)\n",
    "constructNGramAndDict(\"books\\\\2021-0.txt\", bigram, dictionary)\n",
    "constructNGramAndDict(\"books\\\\1342-0.txt\", bigram, dictionary)\n",
    "constructNGramAndDict(\"books\\\\1058-0.txt\", bigram, dictionary)\n",
    "constructNGramAndDict(\"books\\\\236-0.txt\", bigram, dictionary)\n",
    "constructNGramAndDict(\"books\\\\120-0.txt\", bigram, dictionary)\n",
    "constructNGramAndDict(\"books\\\\pg164.txt\", bigram, dictionary)\n",
    "constructNGramAndDict(\"books\\\\pg18857.txt\", bigram, dictionary)\n",
    "constructNGramAndDict(\"books\\\\pg103.txt\", bigram, dictionary)\n",
    "constructNGramAndDict(\"books\\\\pg19033.txt\", bigram, dictionary)\n",
    "constructNGramAndDict(\"books\\\\36-0.txt\", bigram, dictionary)\n",
    "#remove the initials that get used in the books\n",
    "for i in nonwords:\n",
    "    if i in dictionary:\n",
    "        dictionary.remove(i)\n",
    "dictionary = set(dictionary)\n",
    "stop = timeit.default_timer()\n",
    "print(\"how long did it take to process the books?\")\n",
    "print('Runtime: ', stop - start)  \n",
    "print(\"how many times is a common phrase in our bigram?\")\n",
    "print(bigram[\"and the\"])\n",
    "print(\"how many times is a rare phrase in our bigram?\")\n",
    "print(bigram[\"serenity became\"]) \n",
    "print(\"does our dictionary contain a common word?\")\n",
    "print(\"the\" in dictionary)\n",
    "print(\"does our dictionary contain a rare word?\")\n",
    "print(\"MacGyver\" in dictionary)"
   ]
  },
  {
   "cell_type": "markdown",
   "metadata": {},
   "source": [
    "And knowing that each phrase is mapped to a count, here's the expression:\n",
    "$$p_{simple}(h_{i-1},h_{i}) = \\frac{count(h_{i-1} + \"\\,\" + h_i)}{total \\, count}$$\n",
    "Where total count is the sum of each bi-gram count in transition $h_{i-1} \\rightarrow h_{i}$. <br>\n",
    "\n",
    "Continuing from above, The distribution for emission -- $p(v_t|h_t)$ -- is defined by a matrix of $VxH$ dimension.  The emission matrix B is defined by $$B_{i,j}=p(v_t=i|h_t=j)$$\n",
    "\n",
    "To find the emission probabilities we need to design a system which attempts to emulate a user making typos on a qwerty keyboard.  For example, switching two neighboring letters, failing to press a key all the way down, hitting a nearby key before the intended one, and missing the key entirely and hitting a nearby one instead.  scramble(word) will introduce n iterations of noise to the word.  Each iteration is a less likely mispelling of the word.  \n",
    "\n",
    "Note: there's a dp algorithm called edit distance that would do the same as Pdist but in a much better runtime.  However, the scramble idea will lead to a function called unscramble which I will use later."
   ]
  },
  {
   "cell_type": "code",
   "execution_count": 4,
   "metadata": {},
   "outputs": [],
   "source": [
    "#correct is a helper function\n",
    "def correct(array,x,y):\n",
    "    #if index in bounds return otherwise do nothing\n",
    "    if y < len(array) and y >= 0:\n",
    "        if x < len(array[y]) and x >= 0:\n",
    "            return array[y][x]\n",
    "#also a helper function for finding the first occurrence in a 2d array\n",
    "def find(array,i):\n",
    "    for j in range(len(array)):\n",
    "        if i in array[j]:\n",
    "            return j,array[j].index(i)\n",
    "#this array portrays the layout of a keyboard\n",
    "querty = [\n",
    "    ['q','w','e','r','t','y','u','i','o','p'],\n",
    "    ['a','s','d','f','g','h','j','k','l','\\''],\n",
    "    ['z','x','c','v','b','n','m'],\n",
    "]\n",
    "#find the neighbors of a key on the keyboard\n",
    "def neighbors(letter):\n",
    "    y,x = find(querty, letter)\n",
    "    temp2 = [correct(querty,x,y+1),correct(querty,x,y-1),correct(querty,x+1,y),correct(querty,x-1,y),correct(querty,x+1,y+1),correct(querty,x+1,y-1),correct(querty,x-1,y+1),correct(querty,x-1,y-1)]\n",
    "    nearby = []\n",
    "    for index in temp2:\n",
    "        if index != None:\n",
    "            nearby.append(index)\n",
    "    nearby.append(letter)\n",
    "    return nearby"
   ]
  },
  {
   "cell_type": "code",
   "execution_count": 5,
   "metadata": {
    "scrolled": true
   },
   "outputs": [],
   "source": [
    "#this function illustrates generating possible typos from a valid word\n",
    "def scramble(vocab,iterations):\n",
    "    result = []\n",
    "    for i in vocab:\n",
    "        oldLevel = [i]\n",
    "        result.append(oldLevel)\n",
    "        newLevel = []\n",
    "        #an \"iteration\" is a single keystroke of noise\n",
    "        for j in range(iterations):\n",
    "            for word in oldLevel:\n",
    "                #there are four types of typos\n",
    "                for type in range(4):\n",
    "                    if type == 0:\n",
    "                        #swap two neighboring letters\n",
    "                        for pos1 in range(len(word)-1):\n",
    "                            pos2 = pos1 + 1\n",
    "                            stringList = list(word)\n",
    "                            stringList[pos1],stringList[pos2]=stringList[pos2],stringList[pos1]\n",
    "                            jumbled = \"\".join(stringList)\n",
    "                            newLevel.append(jumbled)\n",
    "                    if type == 1:\n",
    "                        #replace with a letter that is close on the querty keyboard\n",
    "                        for temp in range(0,len(word)):\n",
    "                            nearby = neighbors(word[temp])\n",
    "                            for letter in nearby:\n",
    "                                stringList = list(word)\n",
    "                                stringList[temp]=letter\n",
    "                                jumbled = \"\".join(stringList)\n",
    "                                newLevel.append(jumbled)\n",
    "                    if type == 2:\n",
    "                        #delete a letter\n",
    "                        for temp in range(0,len(word)):\n",
    "                            stringList = list(word)\n",
    "                            jumbled = \"\".join(stringList[:temp]+stringList[temp+1:])\n",
    "                            newLevel.append(jumbled)\n",
    "                    if type == 3:\n",
    "                        #insert a letter that is close on the querty keyboard to the letter after it\n",
    "                        for temp in range(0,len(word)):\n",
    "                            nearby = neighbors(word[temp])\n",
    "                            for letter in nearby:\n",
    "                                stringList = list(word)\n",
    "                                jumbled = \"\".join(stringList[:temp]+[letter]+stringList[temp:])\n",
    "                                newLevel.append(jumbled)\n",
    "            oldLevel = newLevel\n",
    "            newLevel = []\n",
    "            result.append(oldLevel)\n",
    "    return result"
   ]
  },
  {
   "cell_type": "code",
   "execution_count": 6,
   "metadata": {},
   "outputs": [
    {
     "data": {
      "text/plain": [
       "['ti',\n",
       " 'kt',\n",
       " 'ot',\n",
       " 'ut',\n",
       " 'lt',\n",
       " 'jt',\n",
       " 'it',\n",
       " 'ig',\n",
       " 'iy',\n",
       " 'ir',\n",
       " 'ih',\n",
       " 'if',\n",
       " 'it',\n",
       " 't',\n",
       " 'i',\n",
       " 'kit',\n",
       " 'oit',\n",
       " 'uit',\n",
       " 'lit',\n",
       " 'jit',\n",
       " 'iit',\n",
       " 'igt',\n",
       " 'iyt',\n",
       " 'irt',\n",
       " 'iht',\n",
       " 'ift',\n",
       " 'itt']"
      ]
     },
     "execution_count": 6,
     "metadata": {},
     "output_type": "execute_result"
    }
   ],
   "source": [
    "#scramble the word \"it\" with one iteration of noise\n",
    "#return all the resulting typos\n",
    "scramble([\"it\"],1)[1]"
   ]
  },
  {
   "cell_type": "markdown",
   "metadata": {},
   "source": [
    "Then, I define a Pdist function, which takes edit distances and generates a normalized probability distribution."
   ]
  },
  {
   "cell_type": "code",
   "execution_count": 7,
   "metadata": {},
   "outputs": [
    {
     "name": "stdout",
     "output_type": "stream",
     "text": [
      "[[0.54545455 0.18181818 0.27272727]]\n",
      "[[0.2 0.2 0.6]]\n",
      "[[0.33333333 0.33333333 0.33333333]]\n"
     ]
    }
   ],
   "source": [
    "#this function takes a word and it's typo and returns the probability that the word \"emitted\" the typo\n",
    "def p_dist(correct, typo):\n",
    "    y, x = find(scramble([correct],3), typo)\n",
    "    return y ** -1 #scoring function, more iterations = less likely\n",
    "\n",
    "#get the PDF of the first hidden state\n",
    "p1 = float(p_dist(\"the\", \"teh\")) \n",
    "p2 = float(p_dist(\"rue\", \"teh\")) \n",
    "p3 = float(p_dist(\"they\", \"teh\"))\n",
    "p = np.array([p1,p2,p3]).astype(float)\n",
    "p = normalize(p.reshape(1,-1), norm='l1')\n",
    "print(p)\n",
    "\n",
    "#get the PDF of the second hidden state\n",
    "p1 = p_dist(\"sick\", \"quivk\")\n",
    "p2 = p_dist(\"wick\", \"quivk\")\n",
    "p3 = p_dist(\"quick\", \"quivk\")\n",
    "p = np.array([p1,p2,p3]).astype(float)\n",
    "p = normalize(p.reshape(1,-1), norm='l1')\n",
    "print(p)\n",
    "\n",
    "#get the PDF of the third hidden state\n",
    "p1 = p_dist(\"brown\", \"vrown\")\n",
    "p2 = p_dist(\"frown\", \"vrown\")\n",
    "p3 = p_dist(\"grown\", \"vrown\")\n",
    "p = np.array([p1,p2,p3]).astype(float)\n",
    "p = normalize(p.reshape(1,-1), norm='l1')\n",
    "print(p)"
   ]
  },
  {
   "cell_type": "markdown",
   "metadata": {},
   "source": [
    "And an updated HMM diagram with possible hidden states shown."
   ]
  },
  {
   "cell_type": "code",
   "execution_count": 94,
   "metadata": {},
   "outputs": [
    {
     "data": {
      "image/png": "[encoded data removed]",
      "text/plain": [
       "<IPython.core.display.Image object>"
      ]
     },
     "metadata": {},
     "output_type": "display_data"
    }
   ],
   "source": [
    "from IPython.display import Image \n",
    "pil_img = Image(filename='images\\\\02.png')\n",
    "display(pil_img)"
   ]
  },
  {
   "cell_type": "markdown",
   "metadata": {},
   "source": [
    "And now let's define the transition and emission matrices.\n",
    "<br><br>\n",
    "$$\\begin{pmatrix} the \\\\ rue  \\\\ they  \\end{pmatrix},\\begin{pmatrix} the\\,quick & rue \\,quick & they\\, quick \\\\ the\\, wick & rue \\,wick & they\\, wick \\\\ the\\, sick & rue\\, sick & they\\, sick \\end{pmatrix},\\begin{pmatrix} quick\\,brown & wick \\,brown & sick\\, brown \\\\ quick\\, frown & wick \\,frown & sick\\, frown \\\\ quick\\, grown & wick\\, grown & sick\\, grown \\end{pmatrix} = \\begin{pmatrix} 0.75  \\\\ 0.23 \\\\ 0.27 \\end{pmatrix},\\begin{pmatrix} 0.45 & 0 & 0 \\\\ 0.1 & 0 & 0 \\\\ 0.45 & 0 & 0 \\end{pmatrix},\\begin{pmatrix} 0.75 & 0 & 0 \\\\ 0.25 & 0 & 0 \\\\ 0 & 0 & 0 \\end{pmatrix}$$\n",
    "\n",
    "<br>Note that I picked arbitrary probabilities, i.e. \"They wick\" is obviously not grammatically correct.  I did not use my bigram data because \"brown fox\" and \"quick brown\" are never used in the books I scanned.\n",
    "\n",
    "\n",
    "$$\\begin{pmatrix} the|teh & quick|quivk & brown|vrown \\\\ rue|teh & wick|quivk & frown|vrown \\\\ they|teh & sick|quivk & grown|vrown \\end{pmatrix} = \\begin{pmatrix} 0.55 & 0.6 & 0.33 \\\\ 0.18 & 0.2 & 0.33 \\\\ 0.27 & 0.2 & 0.33 \\end{pmatrix}$$"
   ]
  },
  {
   "cell_type": "markdown",
   "metadata": {},
   "source": [
    "Now to solve viterbi. $$argmax_{(h_1:T)}p(h_{1:T}|v_{1:T})$$\n",
    "<br>We can see that given a distribution of $$p(h_{1:T},v_{1:T}) = p(v_1|h_1)p(h_1)\\prod_{t=2}^Tp(v_t|h_t)p(h_t|h_{t-1})$$ the path that gives the highest likelihood is  $$the \\rightarrow quick \\rightarrow brown$$  which corresponds to a path total of $$(0.55*0.75)+(0.6*0.45)+(0.33*0.75)$$"
   ]
  },
  {
   "cell_type": "markdown",
   "metadata": {},
   "source": [
    "# A new strategy"
   ]
  },
  {
   "cell_type": "markdown",
   "metadata": {},
   "source": [
    "What about errors spanning multiple words?  The simple HMM only accomodates typos of a single word at a time.  In the following model we will expand the previous model.  We will also implement the state space search and path finding to obtain a fully functional spell checker.  Note that many ideas and equations were borrowed from [1].\n",
    "\n",
    "In order to also fix errors spanning multiple words, we must modify the HMM sturcture a few ways.  We must allow hidden states to be null and also assign each hidden state a \"type\", referring to what kind of correction this state is making. Let's also make a few definitions:\n",
    "\n",
    "| correction type    | example                              |\n",
    "|--------------------|--------------------------------------|\n",
    "| in-word correction | yeserday $\\rightarrow$ yesterday       |\n",
    "| splitting          | feelingsick $\\rightarrow$ feeling sick |\n",
    "| merging            | power point $\\rightarrow$ powerpoint   |\n",
    "| transferring       | cora lreef $\\rightarrow$ coral reef|\n",
    "\n",
    "Here are some graphical examples of the multiple word corrections I'm talking about."
   ]
  },
  {
   "cell_type": "code",
   "execution_count": 95,
   "metadata": {
    "scrolled": true
   },
   "outputs": [
    {
     "data": {
      "image/png": "[encoded data removed]",
      "text/plain": [
       "<IPython.core.display.Image object>"
      ]
     },
     "metadata": {},
     "output_type": "display_data"
    }
   ],
   "source": [
    "pil_img = Image(filename='images\\\\03.png')\n",
    "display(pil_img)"
   ]
  },
  {
   "cell_type": "code",
   "execution_count": 96,
   "metadata": {},
   "outputs": [
    {
     "data": {
      "image/png": "[encoded data removed]",
      "text/plain": [
       "<IPython.core.display.Image object>"
      ]
     },
     "metadata": {},
     "output_type": "display_data"
    }
   ],
   "source": [
    "pil_img = Image(filename='images\\\\04.png')\n",
    "display(pil_img)"
   ]
  },
  {
   "cell_type": "code",
   "execution_count": 97,
   "metadata": {},
   "outputs": [
    {
     "data": {
      "image/png": "[encoded data removed]",
      "text/plain": [
       "<IPython.core.display.Image object>"
      ]
     },
     "metadata": {},
     "output_type": "display_data"
    }
   ],
   "source": [
    "pil_img = Image(filename='images\\\\05.png')\n",
    "display(pil_img)"
   ]
  },
  {
   "cell_type": "markdown",
   "metadata": {},
   "source": [
    "A few more definitions: the query chain is $v_{1:n}$ and each counterfactual hidden state chain is $h_{1:n}$ and the type is denoted as $t_i$.  We must also define a \"context\" for each member of a state chain $c_i=<h_{i-1},t_{i-1},h_i,t_i,v_{1:n}>$ which contains the previous and current state and type as well as the entire search query.  \n",
    "<br>\n",
    "Recall that earlier I built a bigram dataset and a dictionary.  The dictionary contains many valid english words.  The bigram dataset contains many two word phrases and how many times these phrases were seen.\n",
    "<br><br>\n",
    "Below I define unscramble(), a process much like the scramble() function I wrote; but it does the exact opposite.  Unscramble() takes a mispelled word and attempts to find the correct word the user meant to type. "
   ]
  },
  {
   "cell_type": "code",
   "execution_count": 8,
   "metadata": {},
   "outputs": [],
   "source": [
    "alphabet=['a','b','c','d','e','f','g','h','i','j','k','l','m','n','o','p','q','r','s','t','u','v','w','x','y','z']\n",
    "#this function takes a typo and attempts to find the valid english word that the user meant to type\n",
    "#in other words it generates all possible hidden states from an observed state\n",
    "def unscramble(word,iterations):\n",
    "    result = []\n",
    "    oldLevel = [word]\n",
    "    result.append(oldLevel)\n",
    "    newLevel = []\n",
    "    trueResult = []\n",
    "    editDistance = []\n",
    "    #one iteration is one keystroke of noise\n",
    "    for j in range(iterations):\n",
    "        for word in oldLevel:\n",
    "            #iterate through the word\n",
    "            for pos1 in range(len(word)-1):\n",
    "                #pos1 and pos2 are adjacent letters\n",
    "                pos2 = pos1 + 1\n",
    "                nearby = neighbors(word[pos2])\n",
    "                stringList = list(word)\n",
    "                #swap two neighboring letters\n",
    "                stringList[pos1],stringList[pos2]=stringList[pos2],stringList[pos1]\n",
    "                jumbled = \"\".join(stringList)\n",
    "                newLevel.append(jumbled)\n",
    "                #if its a valid word add it to the result\n",
    "                if jumbled in dictionary and jumbled not in trueResult:\n",
    "                    trueResult.append(jumbled)\n",
    "                    editDistance.append(j+1)\n",
    "                #if the adjacent letters are also neighbors on the keyboard\n",
    "                if word[pos1] in nearby:\n",
    "                    stringList2 = list(word)\n",
    "                    #remove the first adjacent letter\n",
    "                    stringList2 = stringList2[:pos1]+stringList2[pos2:]\n",
    "                    jumbled2 = \"\".join(stringList2)\n",
    "                    newLevel.append(jumbled2)\n",
    "                    #if its a valid word add it\n",
    "                    if jumbled2 in dictionary and jumbled2 not in trueResult:\n",
    "                        trueResult.append(jumbled2)\n",
    "                        editDistance.append(j+1)\n",
    "\n",
    "                #iterate through nearby letters on the keyboard\n",
    "                for letter in nearby:\n",
    "                    stringList3 = list(word)\n",
    "                    #replace the current letter with neighboring letters on the keyboard\n",
    "                    stringList3[pos2]=letter\n",
    "                    jumbled3 = \"\".join(stringList3)\n",
    "                    newLevel.append(jumbled3)\n",
    "                    #check if its valid\n",
    "                    if jumbled3 in dictionary and jumbled3 not in trueResult:\n",
    "                        trueResult.append(jumbled3)\n",
    "                        editDistance.append(j+1)\n",
    "                    stringList4 = list(word)\n",
    "                    #insert the neighboring letter instead of replacing\n",
    "                    jumbled4 = \"\".join(stringList4[:pos2]+[letter]+stringList4[pos2:])\n",
    "                    newLevel.append(jumbled4)\n",
    "                    #check again\n",
    "                    if jumbled4 in dictionary and jumbled4 not in trueResult:\n",
    "                        trueResult.append(jumbled4)\n",
    "                        editDistance.append(j+1)\n",
    "        #proceed to a new iteration of noise\n",
    "        oldLevel = newLevel\n",
    "        newLevel = []\n",
    "        result.append(oldLevel)\n",
    "    #return the typos and how many iterations of noise produced the typo\n",
    "    return trueResult,editDistance"
   ]
  },
  {
   "cell_type": "code",
   "execution_count": 9,
   "metadata": {},
   "outputs": [
    {
     "data": {
      "text/plain": [
       "(['hope',\n",
       "  'hoped',\n",
       "  'hopes',\n",
       "  'hoe',\n",
       "  'hole',\n",
       "  'holed',\n",
       "  'holes',\n",
       "  'hoods',\n",
       "  'hooded',\n",
       "  'hoofs',\n",
       "  'hood',\n",
       "  'hoof',\n",
       "  'hopped',\n",
       "  'ohe',\n",
       "  'hide',\n",
       "  'hire',\n",
       "  'hors',\n",
       "  'horse',\n",
       "  'howes',\n",
       "  'how'],\n",
       " [2, 2, 2, 2, 3, 3, 3, 3, 3, 3, 3, 3, 3, 3, 3, 3, 3, 3, 3, 3])"
      ]
     },
     "execution_count": 9,
     "metadata": {},
     "output_type": "execute_result"
    }
   ],
   "source": [
    "#what are the correct forms of the typo \"hpoee\" within three keystrokes\n",
    "#return typos and the number of keystrokes required to produce the typo\n",
    "unscramble(\"hpoee\",3)"
   ]
  },
  {
   "cell_type": "markdown",
   "metadata": {},
   "source": [
    "We must now briefly define a state space search proces and how this results in proposed hidden states.  This state space search also generates the emission distributions for the HMM!  The function does this by calling unscramble on each word in the query, and then tracking how many edits resulted in the unscrambled word.  We also add sections for multi-word corrections.  These are easy: each split and merge correction only costs one keystroke and exchanging costs two keystrokes.  By keeping track of each edit distance we no longer need to implement the edit distance algorithm.\n",
    "\n",
    "Let's also iron out the specifics of how emission probability works in the case of multi-word corrections.  For this, we require  a feature-vector function that maps a context and state to a set of feature-vectors.  We will call this -- $e$ -- and it finds dependencies between the search query and the hidden states -- in other words emission.  Here is the feature vector:\n",
    "$$e_k(h_i,t_i,v_{1:n}),k = 1...d'$$\n",
    "Where k is the variant of the feature-vector and d' is the dimensions of the feature-vector.  Now to define the feature-vector functions, $e_1,e_2,e_3,e_4$:\n",
    "\n",
    "| $t_i,v_i\\in dic$     |&nbsp;&nbsp;&nbsp;&nbsp;&nbsp;&nbsp;&nbsp;&nbsp;&nbsp;&nbsp;&nbsp;&nbsp;&nbsp;&nbsp;&nbsp;&nbsp;&nbsp;&nbsp;&nbsp;&nbsp;&nbsp;&nbsp;&nbsp;&nbsp;&nbsp;&nbsp;&nbsp;&nbsp;&nbsp;&nbsp;&nbsp;&nbsp;&nbsp;&nbsp;  $e_1(h_i,t_i,v_{1:n})$ | reason |\n",
    "|--------------------|----------------------------------------|-|\n",
    "| in-word $\\land$ false     | $log(p_{dist}(h_i,v_i))$                      |if the user made an in-word typo the resulting mispelling will not be a valid english word|\n",
    "| $\\neg$in-word $\\lor$ true     | 0                      |this is not a in-word typo|\n",
    "\n",
    "<br>\n",
    "\n",
    "| $t_i,v_i\\in dic$|&nbsp;&nbsp;&nbsp;&nbsp;&nbsp;&nbsp;&nbsp;&nbsp;&nbsp;&nbsp;&nbsp;&nbsp;&nbsp;&nbsp;&nbsp;&nbsp;&nbsp;&nbsp;&nbsp;&nbsp;&nbsp;&nbsp;&nbsp;&nbsp;&nbsp;&nbsp;&nbsp;&nbsp;&nbsp;&nbsp;&nbsp;&nbsp;&nbsp;&nbsp;  $e_2(h_i,t_i,v_{1:n})$ | reason |\n",
    "|--------------------|----------------------------------------|-|\n",
    "| split $\\land$ false     | $log(p_{dist}(h_i,v_i))$                      |if the user accidentally combined two words the resulting mispelling will not be a valid english word|\n",
    "| $\\neg$split $\\lor$ true     | 0                      |this is not a splitting typo|\n",
    "\n",
    "<br>\n",
    "\n",
    "| $t_i,v_i\\in dic$|&nbsp;&nbsp;&nbsp;&nbsp;&nbsp;&nbsp;&nbsp;&nbsp;&nbsp;&nbsp;&nbsp;&nbsp;&nbsp;&nbsp;&nbsp;&nbsp;&nbsp;&nbsp;&nbsp;&nbsp;&nbsp;&nbsp;&nbsp;&nbsp;&nbsp;&nbsp;&nbsp;&nbsp;&nbsp;&nbsp;&nbsp;&nbsp;&nbsp;&nbsp;   $e_3(h_i,t_i,v_{1:n})$ | reason |\n",
    "|------------------|--------------------------------------|-|\n",
    "| merge $\\land$ true*     | $log(p_{dist}(h_i,v_i+\"\\,\"+v_{i+1}))$                      |* if the user accidentally split a single word then the joined phrase will be a valid english word. <br>  Also, run edit distance on the current query word joined with a space and the next query word.  <br> This is okay since the next hidden state will be null|\n",
    "| $\\neg$merge $\\lor$ false     | 0                      |this is not a merging typo|\n",
    "\n",
    "| $t_i,v_i\\in dic$|&nbsp;&nbsp;&nbsp;&nbsp;&nbsp;&nbsp;&nbsp;&nbsp;&nbsp;&nbsp;&nbsp;&nbsp;&nbsp;&nbsp;&nbsp;&nbsp;&nbsp;&nbsp;&nbsp;&nbsp;&nbsp;&nbsp;&nbsp;&nbsp;&nbsp;&nbsp;&nbsp;&nbsp;&nbsp;&nbsp;&nbsp;&nbsp;&nbsp;&nbsp;  $e_4(h_i,t_i,v_{1:n})$ | reason |\n",
    "|------------------|-------------------------------------|-|\n",
    "| exchange $\\land$ false     | $log(p_{dist}(h_i,v_i+\"\\,\"+v_{i+1}))$                      |if the user mistyped spacepress, the two resulting words <br> will not be valid english words.  Also run edit distance on the current query word and <br>the next query word.  This is okay because the next hidden state will be null.|\n",
    "| $\\neg$exchange $\\lor$ true     | 0                      |this is not an exchanging typo|\n",
    "\n",
    "\n",
    "Now that we know the specifics, we can put this process into python."
   ]
  },
  {
   "cell_type": "code",
   "execution_count": 10,
   "metadata": {},
   "outputs": [],
   "source": [
    "#helper function for adding \n",
    "def add(a,b,c):\n",
    "    if len(a[b]) == 0:\n",
    "        a[b] = [c]\n",
    "    else:\n",
    "        a[b].append(c)\n",
    "#generate hidden states from a string query\n",
    "def genStates(query,iterations):\n",
    "    #split on spaces and make an array\n",
    "    listQuery = query.split(\" \")\n",
    "    hiddenStates = [[]]*len(listQuery)    \n",
    "    hiddenTypes = [[]]*len(listQuery) \n",
    "    editDistance = [[]]*len(listQuery)\n",
    "    #for observed typo\n",
    "    for index, i in enumerate(listQuery):\n",
    "        #if the observed state is a valid word\n",
    "        #add the word to the HMM and label it as 'no correction' with an edit distance of 0\n",
    "        if i in dictionary:\n",
    "            add(hiddenStates,index,i)\n",
    "            add(hiddenTypes,index,\"no correction\")\n",
    "            add(editDistance,index,0)\n",
    "        #if the observed word is not a valid word\n",
    "        if i not in dictionary:\n",
    "            #unscramble the word \n",
    "            corrected = unscramble(i,iterations)\n",
    "            #add the unscrambled words we found to the HMM\n",
    "            #also add the type \"in-word\" and the edit distance\n",
    "            for jindex,j in enumerate(corrected[0]):\n",
    "                add(hiddenStates,index,j)\n",
    "                add(hiddenTypes,index,\"in-word\")\n",
    "                add(editDistance,index,corrected[1][jindex])\n",
    "            #try splitting the word on each index\n",
    "            #if the two resulting words are both valid words, add the phrase to the HMM\n",
    "            #indicate the type \"splitting\" and the edit distance is 1\n",
    "            for j in range(1,len(i)): #splitting\n",
    "                left = i[:j]\n",
    "                right = i[j:]\n",
    "                if left in dictionary and right in dictionary:\n",
    "                    add(hiddenStates,index,left+ \" \"+ right)\n",
    "                    add(hiddenTypes,index,\"splitting\")\n",
    "                    add(editDistance,index,1)\n",
    "        #for a merging/exchange type, combine this observed state with the next observed state\n",
    "        #if the result is a valid word, add the phrase to the HMM with type and edit distance \n",
    "        #also remember to add None to the next level in the HMM\n",
    "        if index != len(listQuery)-1:\n",
    "                nextWord = listQuery[index+1]\n",
    "                #exchanging type\n",
    "                for j in range(1,3):\n",
    "                    if i+nextWord[:j] in dictionary and nextWord[j:] in dictionary:\n",
    "                        add(hiddenStates,index,i+nextWord[:j]+\" \"+nextWord[j:])      \n",
    "                        add(hiddenStates,index+1,None)\n",
    "                        add(hiddenTypes,index+1,None)\n",
    "                        add(editDistance,index+1,None)\n",
    "                        add(hiddenTypes,index,\"transferring\")\n",
    "                        add(editDistance,index,2)\n",
    "                #merging type\n",
    "                if i+nextWord in dictionary:\n",
    "                    add(hiddenStates,index,i+listQuery[index+1])\n",
    "                    add(hiddenStates,index+1,None)\n",
    "                    add(hiddenTypes,index+1,None)\n",
    "                    add(editDistance,index+1,None)\n",
    "                    add(hiddenTypes,index,\"merging\")\n",
    "                    add(editDistance,index,1)\n",
    "        #if we couldn't find a state, just add the original word and indicate we couldn't find a valid state\n",
    "        if(len(hiddenStates[index])==0):\n",
    "            add(hiddenStates,index,i)\n",
    "            add(hiddenTypes,index,\"not-found\")\n",
    "            add(editDistance,index,np.nan)\n",
    "    return(hiddenStates,hiddenTypes,editDistance)    "
   ]
  },
  {
   "cell_type": "code",
   "execution_count": 11,
   "metadata": {},
   "outputs": [
    {
     "name": "stdout",
     "output_type": "stream",
     "text": [
      "[['he'], ['carried his'], ['fat'], ['pay', 'pah', 'paunch'], [None]] \n",
      "\n",
      " [['no correction'], ['splitting'], ['no correction'], ['in-word', 'in-word', 'merging'], [None]] \n",
      "\n",
      " [[0], [1], [0], [1, 1, 1], [None]]\n"
     ]
    }
   ],
   "source": [
    "#define a query with typos\n",
    "#note that this query comes from the training material\n",
    "query = \"he carriedhis fat pau nch\"\n",
    "#print the hidden states, their types, and edit distances\n",
    "hiddenStates, hiddenTypes, editDistance = genStates(query,1)\n",
    "print(hiddenStates,\"\\n\\n\",hiddenTypes,\"\\n\\n\",editDistance)"
   ]
  },
  {
   "cell_type": "markdown",
   "metadata": {},
   "source": [
    "Another feature vector function -- $tr$-- will find dependencies between past and current states and types, this measures transition:\n",
    "$$tr_j(h_{i-1},t_{i-1},h_i,t_i),j = 1...d $$\n",
    "Where j is the variants of the feature-vector and d is the dimensions of the feature-vector.  Now to define the feature-vector function $tr_1$:\n",
    "\n",
    "$$tr_1(h_{i-1},t_{i-1},h_i,t_i) = log(p_t(h_i|h_{i-1},t_{i-1},t_i))$$\n",
    "<br>\n",
    "Whre $p_t(h_i|h_{i-1},t_{i-1},t_i)$ measures the transition probability.  Before this was simply \n",
    "$$p_{simple}(h_{i-1},h_{i}) = \\frac{count(h_{i-1} + \"\\,\" + h_i)}{total \\, count}$$\n",
    "Where total count is the sum of each bi-gram count in transition $h_{i-1} \\rightarrow h_{i}$. But the addition of multi-word correction means we must define a new function.\n",
    "\n",
    "| $t_{i-1},t_i$     | $p_t(h_i\\mid h_{i-1},t_{i-1},t_i)$  &nbsp;&nbsp;&nbsp;&nbsp;&nbsp;&nbsp;&nbsp;&nbsp;&nbsp;&nbsp;&nbsp;&nbsp;&nbsp;&nbsp;&nbsp;&nbsp;&nbsp;&nbsp;&nbsp;&nbsp;&nbsp;&nbsp;&nbsp;&nbsp;&nbsp;&nbsp;&nbsp;&nbsp;&nbsp;&nbsp;&nbsp;&nbsp;&nbsp;&nbsp;&nbsp;&nbsp;&nbsp;&nbsp;&nbsp;&nbsp;&nbsp;&nbsp;&nbsp;&nbsp;&nbsp;&nbsp;&nbsp;&nbsp;&nbsp;&nbsp;&nbsp;&nbsp;&nbsp;&nbsp;&nbsp;&nbsp;&nbsp;&nbsp;         | reason |\n",
    "|--------------------|----------------------------------------|-|\n",
    "| merge or exchange, null        | 1                                      |If the last state merged two words or transferred letters, the current state must be empty|\n",
    "| null, any          | $p_t(h_i\\mid h_{i-2},merge/exchange,t_i)$ |If the last state is null, instead consider the state before it which is inevitably a merge/exchange type|\n",
    "| any non-null non-split non-exchange type, split            | $\\frac{p_{simple}(h_{i-1},h_{i}[0])+p_{simple}(h_i[0],h_i[1])}{2}$|since state $h_i$ is two words we first take the simple popularity of the bigram of $h_{i-1}$ and the first word of $h_{i}$ added to the simple popularity of the biagram of the first and second word of $h_{i}$ and normalize by dividing by two|\n",
    "| split or exchange, any non-null and non-split non-exchange type            | $p_{simple}(h_{i-1}[1],h_{i})$|since state $h_{i-1}$ is two words we take the simple popularity of the bi-gram of $h_{i-1}[1]$ and $h_i$.  Note that we do not repeat the bi-gram popularity of $h_{i-1}$ as we already did this above |\n",
    "| split or exchange, split or exchange           | $\\frac{p_{simple}(h_{i-1}[1],h_{i}[0])+p_{simple}(h_i[0],h_i[1])}{2}$|since both states are two words in length, use the words that make up those phrases|\n",
    "| otherwise           | $p_{simple}(h_{i-1},h_{i}$)||\n",
    "\n",
    "Let's go ahead and put this into python.  "
   ]
  },
  {
   "cell_type": "code",
   "execution_count": 12,
   "metadata": {},
   "outputs": [],
   "source": [
    "#checkBeforeAdd stops the key not found error\n",
    "def checkBeforeAdd(d,key,phrase,bigram):\n",
    "    if phrase in bigram:\n",
    "        d[key] = bigram[phrase]\n",
    "    else:\n",
    "        d[key] = 0\n",
    "def getTransitions(hiddenStates,hiddenTypes):\n",
    "    #we'll store transitions in a dictionary\n",
    "    #i,j:k,l is the key format, describing transition from i,j-th hidden state to the k,l-th hidden state\n",
    "    d = {}\n",
    "    #iterate through each transition in the hidden states\n",
    "    for i in range(len(hiddenStates)-1):\n",
    "        for j in range(len(hiddenStates[i])):\n",
    "            for k in range(len(hiddenStates[i+1])):\n",
    "                firstState = hiddenStates[i][j]\n",
    "                secondState = hiddenStates[i+1][k]\n",
    "                firstType = hiddenTypes[i][j]\n",
    "                secondType = hiddenTypes[i+1][k]\n",
    "                key = str(i)+\",\"+str(j)+\":\"+str(i+1)+\",\"+str(k)\n",
    "                #if the first state is merging or exchanging the transition prob is np.inf\n",
    "                #in other words merge must lead to null\n",
    "                if (firstType == \"merging\" or firstType ==\"transferring\") and secondState == None:\n",
    "                    d[key] = np.inf\n",
    "                #if the first state is null then the state before the first state must be a merging/exchanging type\n",
    "                #get the state one level behind that is a merging type\n",
    "                #use the \"one level behind\" state instead of the actual first state\n",
    "                elif firstState == None:\n",
    "                    if secondState == None:\n",
    "                        d[key] = 0\n",
    "                    else:\n",
    "                        if \"merging\" in hiddenTypes[i-1]:\n",
    "                            realFirstState = hiddenStates[i-1][hiddenTypes[i-1].index(\"merging\")]\n",
    "                        #since exchanging is two words not one we split and index\n",
    "                        if \"transferring\" in hiddenTypes[i-1]:\n",
    "                            realFirstState = hiddenStates[i-1][hiddenTypes[i-1].index(\"transferring\")].split(\" \")[1]\n",
    "                        if secondType != \"splitting\":\n",
    "                            checkBeforeAdd(d,key,realFirstState+\" \"+secondState,bigram)\n",
    "                        #if the second state is splitting or transferring it will be two words and we need to split\n",
    "                        #then run simple prob on the individual words\n",
    "                        if secondType == \"splitting\" or secondType == \"transferring\":\n",
    "                            words = secondState.split(\" \")\n",
    "                            if realFirstState + \" \" + words[0] in bigram and words[0] + \" \" + words[1] in bigram:\n",
    "                                d[key] = 0.5 * (bigram[realFirstState + \" \" +words[0]]+bigram[words[0]+ \" \"+words[1]])\n",
    "                            else:\n",
    "                                d[key] = 0\n",
    "                #if the second state is splitting/exchanging type then it's a phrase and not a single word!\n",
    "                #we take the count of the first state plus the first word of the second state\n",
    "                #and the count of the first word of the second state plus the second word of the second state\n",
    "                #and we normalize this value\n",
    "                elif (firstState != None and firstType != \"splitting\" and firstType != \"transferring\") and (secondType == \"transferring\" or secondType == \"splitting\"):\n",
    "                    words = secondState.split(\" \")\n",
    "                    if firstState + \" \" + words[0] in bigram and words[0] + \" \" + words[1] in bigram:\n",
    "                        d[key] = 0.5 * (bigram[firstState + \" \" +words[0]]+bigram[words[0]+ \" \"+words[1]])\n",
    "                    else:\n",
    "                        d[key] = 0\n",
    "                #if the first state is splitting/exchanging type and the second state is not splitting/exchanging--\n",
    "                #--type we do something similar to above\n",
    "                #take the count of the second word of the first state plus the second state\n",
    "                elif (firstType == \"splitting\" or firstType == \"transferring\") and (secondType != None and secondType != \"splitting\" and secondType != \"transferring\"):\n",
    "                    checkBeforeAdd(d,key,firstState.split(\" \")[1]+\" \"+secondState,bigram)\n",
    "                #handle two adjacent splitting/exchanging types\n",
    "                elif (firstType == \"splitting\" or firstType == \"transferring\") and (secondType == \"transferring\" or secondType == \"splitting\"):\n",
    "                    words1 = firstState.split(\" \")\n",
    "                    words2 = secondState.split(\" \")\n",
    "                    if words[1] + \" \" + words2[0] in bigram and words2[0] + \" \" + words2[1] in bigram:\n",
    "                        d[key] = 0.5 * (bigram[words1[1] + \" \" +words2[0]]+bigram[words2[0]+ \" \"+words2[1]])\n",
    "                    else:\n",
    "                        d[key] = 0\n",
    "                #if the first state and second state are non null, find the counts of this phrase\n",
    "                elif hiddenStates[i][j] != None and hiddenStates[i+1][k] != None:\n",
    "                    checkBeforeAdd(d,key,firstState+\" \"+secondState,bigram)\n",
    "                #else enter counts as zero\n",
    "                else:\n",
    "                    d[key] = 0\n",
    "    return d"
   ]
  },
  {
   "cell_type": "code",
   "execution_count": 13,
   "metadata": {
    "scrolled": false
   },
   "outputs": [
    {
     "name": "stdout",
     "output_type": "stream",
     "text": [
      "{'0,0:1,0': 9.0, '1,0:2,0': 3, '2,0:3,0': 0, '2,0:3,1': 0, '2,0:3,2': 1, '3,0:4,0': 0, '3,1:4,0': 0, '3,2:4,0': inf}\n"
     ]
    }
   ],
   "source": [
    "#get the complete transition distributions\n",
    "transitions = getTransitions(hiddenStates,hiddenTypes)\n",
    "print(transitions)"
   ]
  },
  {
   "cell_type": "markdown",
   "metadata": {},
   "source": [
    "<br>\n",
    "At this point we have a method for creating a state space, a method for mapping the state space to a generalized HMM, a method for finding transition, and a method for finding emission.  All that is left is to put the pieces together; we must score each feature-vector path and then find the path which optimizes feature-vector score.  Here's how scoring is done:\n",
    "$$score(h_{1:n},t_{1:n}) = \\sum_{i=1}^n\\sum_{j=1}^dc_{j}t_j(h_{i-1},t_{i-1},h_i,t_i)+\\sum_{i=1}^n\\sum_{k=1}^d'm_{k}e_k(h_i,t_i,v_{1:n})$$\n",
    "Here the c and m are constants indicating the weight of each feature-vector, and this is the reason for using feature-vectors.  The model can give varying weights to different kinds of corrections -- and weights for emission vs. transition.  For example, if statistically speaking a splitting error is the most likely error, m might look like this:\n",
    "$$\\begin{pmatrix} 0.1 & 0.8 & 0.1 \\end{pmatrix}$$\n",
    "However, without the access to good data on typos made with a keyboard it's best to set each weight to 1.\n",
    "<br>\n",
    "Then, using viterbi again gives us the most likely hidden state sequence:\n",
    "$$argmax_{h_{1:n},t_{1:n}}score(h_{1:n},t_{1:n})$$\n",
    "Here's how I implemented viterbi in python for this HMM.  Note that I used pseudocode and a simplified example from [2] as reference for my implementation:"
   ]
  },
  {
   "cell_type": "code",
   "execution_count": 14,
   "metadata": {},
   "outputs": [],
   "source": [
    "#a helper function\n",
    "#this scores each edit distance by raising the distance to ^-1.  This way more edits is less likely\n",
    "#also deals with None caused by a multi-word correction and np.nan caused by failing to find a correction\n",
    "def distToProb(dist):\n",
    "    if dist != None:    \n",
    "        if np.isnan(dist):\n",
    "            return 0\n",
    "        return (dist+1) ** -1\n",
    "    return 1\n",
    "#np.inf means a transition from exchange/merge to a NULL.  We used np.inf to show that exchange/merge MUST be followed by null\n",
    "#In reality, this transition preserves cumulative probability -- the transition probability is not truly infinite\n",
    "def checkTrans(trans):\n",
    "    if trans == np.inf:\n",
    "        return 1\n",
    "    return trans\n",
    "#viterbi alignment\n",
    "def getPath(query,hiddenStates,transitions,editDistance,hiddenTypes):\n",
    "    #we use a dictionary to hold each hop\n",
    "    v = [{}]\n",
    "    #do calculations for the first set of states\n",
    "    for index,state in enumerate(hiddenStates[0]):\n",
    "        v[0][state] = {'prob':distToProb(editDistance[0][index]),'prev':None}\n",
    "    #for the rest of the hidden states\n",
    "    for t in range(1,len(hiddenStates)):\n",
    "        v.append({})\n",
    "        #iterate through the curent states and the states for the previous hop\n",
    "        for index, state in enumerate(hiddenStates[t]):\n",
    "            #this is a placeholder to start initiate maxTrProb and prevStateSelected\n",
    "            maxTrProb = v[t-1][hiddenStates[t-1][0]][\"prob\"]*checkTrans(transitions[str(t-1)+\",0:\"+str(t)+\",\"+str(index)])\n",
    "            prevStateSelected = hiddenStates[t-1][0]\n",
    "            for jindex, prevState in enumerate(hiddenStates[t-1][1:]):\n",
    "                trProb = v[t-1][prevState][\"prob\"]*checkTrans(transitions[str(t-1)+\",\"+str(jindex+1)+\":\"+str(t)+\",\"+str(index)])   \n",
    "                #find the max transition from the previous hop to the current set of states\n",
    "                if trProb > maxTrProb:\n",
    "                    maxTrProb = trProb\n",
    "                    prevStateSelected = prevState\n",
    "            #evaluate the cumulative likelihood and mark this number as well as the hop that produced it\n",
    "            maxProb = maxTrProb * distToProb(editDistance[t][index])\n",
    "            #extra measures to compensate for a small dictionary and bigram datasest\n",
    "            #if a phrase transition or word emission cannot be found in the bigram/dictionary, the cumulative probability \n",
    "            #--for a path will get stuck at zero.  Once this happens all paths become equal no matter which one is more correct\n",
    "            if maxProb == 0.0:\n",
    "                maxProb = 0.1\n",
    "            v[t][state] = {\"prob\":maxProb,\"prev\":prevStateSelected}\n",
    "    optimal = []\n",
    "    maxProb = 0.0\n",
    "    previous = None\n",
    "    bestState = None\n",
    "    #start at the end and find the highest score\n",
    "    for state,data in v[-1].items():\n",
    "        if data[\"prob\"] >= maxProb:\n",
    "            maxProb = data[\"prob\"]\n",
    "            bestState = state\n",
    "    optimal.append(bestState)\n",
    "    previous = bestState\n",
    "    #iterate backwards to produce the path\n",
    "    for t in range(len(v)-2,-1,-1):\n",
    "        optimal.insert(0,v[t+1][previous][\"prev\"])\n",
    "        previous = v[t+1][previous][\"prev\"]\n",
    "    print(optimal)"
   ]
  },
  {
   "cell_type": "code",
   "execution_count": 15,
   "metadata": {},
   "outputs": [
    {
     "name": "stdout",
     "output_type": "stream",
     "text": [
      "['he', 'carried his', 'fat', 'paunch', None]\n"
     ]
    }
   ],
   "source": [
    "#finally, use viterbi to find the most likely path, and therefore the corrected query\n",
    "getPath(query, hiddenStates, transitions, editDistance,hiddenTypes)       "
   ]
  },
  {
   "cell_type": "markdown",
   "metadata": {},
   "source": [
    "For testing, I'm going to open a book by Joseph Conrad and type quickly.  Three of the books trained on were written by Joseph Conrad, but this book was not part of the training data.  I would love to use the books that were trained on but that doesn't exactly prove that the model is learning anything."
   ]
  },
  {
   "cell_type": "code",
   "execution_count": 86,
   "metadata": {},
   "outputs": [],
   "source": [
    "query1 = \"sometimes it was mrs verloc who would apear at the call of the cracked bell winnie verloc was a yougn womean with a full bust in a tight bodice and wt hbroad hips her hair was very tidy steady eyed like her husband she preserved an air of unfathomable indifference bhind the ramprt of thecounter then the customer of comparitively tendre years would get suddenly disocnverted at having to deal wth a omn and with rage in his heart would proffer a request for a bolte or marking ink reatil value sixpence which once outside hw would drop stealithy into the gutter\"\n",
    "query2 = \"it clatted and at that signal through the sudsty glass dor behind the painted deal counter mr verloc would issue hastily fro mthe parlour at the back his eyes were naturally heavy he had an ir of having walowed fully dressed all day on an unamde bed another man wuld have felt such an appearance a distinct dsicavnatage in a commercial transaction of athe retail order much ddpends on the sellers' engagin and amiable aspect\""
   ]
  },
  {
   "cell_type": "code",
   "execution_count": 89,
   "metadata": {},
   "outputs": [
    {
     "name": "stdout",
     "output_type": "stream",
     "text": [
      "['sometimes', 'it', 'was', 'mrs', 'verloc', 'who', 'would', 'appear', 'at', 'the', 'call', 'of', 'the', 'cracked', 'bell', 'winkie', 'verloc', 'was', 'a', 'young', 'woman', 'with', 'a', 'full', 'bust', 'in', 'a', 'tight', 'bodice', 'and', 'ts', 'broad', 'hips', 'her', 'hair', 'was', 'very', 'tidy', 'steady', 'eyed', 'like', 'her', 'husbands he', None, 'preserved', 'an', 'air', 'of', 'unfathomable', 'indifference', 'hind', 'the', 'ramprt', 'of', 'the counter', 'then', 'the', 'customer', 'of', 'comparitively', 'tender', 'years', 'would', 'get', 'suddenly', 'disconcerted', 'at', 'having', 'to', 'deal', 'why', 'a', 'on', 'and', 'with', 'rage', 'in', 'his', 'heart', 'would', 'proffer', 'a', 'request', 'for', 'a', 'bite', 'or', 'marking', 'ink', 'retail', 'value', 'sixpence', 'which', 'once', 'outside', 'he', 'would', 'drop', 'stealthy', 'into', 'the', 'gutter']\n",
      "Runtime:  0.37643129999923985\n"
     ]
    }
   ],
   "source": [
    "start = timeit.default_timer()\n",
    "hiddenStates, hiddenTypes, editDistance = genStates(query1,2)\n",
    "transitions = getTransitions(hiddenStates,hiddenTypes)\n",
    "getPath(query, hiddenStates, transitions, editDistance,hiddenTypes)   \n",
    "stop = timeit.default_timer()\n",
    "print('Runtime: ', stop - start)  "
   ]
  },
  {
   "cell_type": "code",
   "execution_count": 90,
   "metadata": {},
   "outputs": [
    {
     "name": "stdout",
     "output_type": "stream",
     "text": [
      "['it', 'clatter', 'and', 'at', 'that', 'signal', 'through', 'the', 'dusty', 'glass', 'door', 'behind', 'the', 'painted', 'deal', 'counter', 'mr', 'verloc', 'would', 'issue', 'hastily', 'from the', None, 'parlour', 'at', 'the', 'back', 'his', 'eyes', 'were', 'naturally', 'heavy', 'he', 'had', 'an', 'is', 'of', 'having', 'allowed', 'fully', 'dressed', 'all', 'day', 'on', 'an', 'unamde', 'bed', 'another', 'man', 'would', 'have', 'felt', 'such', 'an', 'appearance', 'a', 'distinct', 'dsicavnatage', 'in', 'a', 'commercial', 'transaction', 'of', 'tame', 'retail', 'order', 'much', 'depends', 'on', 'the', \"sellers '\", 'engaging', 'and', 'amiable', 'aspect']\n",
      "Runtime:  0.25895399999717483\n"
     ]
    }
   ],
   "source": [
    "start = timeit.default_timer()\n",
    "hiddenStates, hiddenTypes, editDistance = genStates(query2,2)\n",
    "transitions = getTransitions(hiddenStates,hiddenTypes)\n",
    "getPath(query, hiddenStates, transitions, editDistance,hiddenTypes)   \n",
    "stop = timeit.default_timer()\n",
    "print('Runtime: ', stop - start)  "
   ]
  },
  {
   "cell_type": "code",
   "execution_count": 19,
   "metadata": {},
   "outputs": [
    {
     "name": "stdout",
     "output_type": "stream",
     "text": [
      "['this', 'nina', 'has a']\n",
      "Runtime:  0.01854120000001558\n"
     ]
    }
   ],
   "source": [
    "start = timeit.default_timer()\n",
    "hiddenStates, hiddenTypes, editDistance = genStates(\"this nigga hasa\",2)\n",
    "transitions = getTransitions(hiddenStates,hiddenTypes)\n",
    "getPath(query, hiddenStates, transitions, editDistance,hiddenTypes)   \n",
    "stop = timeit.default_timer()\n",
    "print('Runtime: ', stop - start)  "
   ]
  },
  {
   "cell_type": "markdown",
   "metadata": {},
   "source": [
    "And there we have it, a generalized HMM for spell checking.  Here are some things this HMM model *cannot* do:  \n",
    "\n",
    "Firstly, and most importantly, the function for generating hidden states is an extremely naive process concisting of a loop and my idea of what causes typos.  Clearly this worked decently well, but not anywhere close to perfectly.  Some typing errors like \"dsicavnatage\" could not be unscrambled by a naive process. \n",
    "\n",
    "Also, the state space function -- the unscramble function really -- runs in $n^2$ time, and must run for each word.  For this reason, corrections with lots of noise will take a \"long\" time to correct.  But with two levels of noise, the queries completed very quickly. Users expect spell checkers to work at the snap of a finger -- and they must do this to be useful to the user -- and this process does do that.  \n",
    "\n",
    "Secondly, this HMM is fairly bare bones.  It does not process text or convert the path back to text with punctuation and capitlization -- I just typed everything in lowercase and without punctuation.  I also allowed the state space generation process to ignore valid English words when in reality the user may misuse a word or type a valid word when they meant to type another, i.e. \"effect of coronavirus\" vs. \"affect of coronavirus.\"  "
   ]
  },
  {
   "cell_type": "markdown",
   "metadata": {},
   "source": [
    "# Closing thoughts\n",
    "Let's close with a few improvements that could be made.  The first improvement has to do with data, and the second improvement has to do with finding the state space.   \n",
    "<br>\n",
    "The data that I used was all generated from free online resources.  I scrolled through gutenberg and tried to find as many recent books as I could, and I found 11.  It is now very clear that number is way too small; I think I would need thousands of books to get good results.  If I was to make this project better I would write a script do download many books. In addition, a good n-gram dataset should be specific: data compiled from queries on a specific service will always be more accurate for correcting future queries on that service."
   ]
  },
  {
   "cell_type": "markdown",
   "metadata": {},
   "source": [
    "And as for finding the state space, I should make it clear that my HMM will not correct mixed multi-word and in-word typos:"
   ]
  },
  {
   "cell_type": "code",
   "execution_count": 98,
   "metadata": {},
   "outputs": [
    {
     "data": {
      "image/png": "[encoded data removed]",
      "text/plain": [
       "<IPython.core.display.Image object>"
      ]
     },
     "metadata": {},
     "output_type": "display_data"
    }
   ],
   "source": [
    "pil_img = Image(filename='images\\\\06.png')\n",
    "display(pil_img)"
   ]
  },
  {
   "cell_type": "markdown",
   "metadata": {},
   "source": [
    "The following modification to generate states would work though:"
   ]
  },
  {
   "cell_type": "markdown",
   "metadata": {},
   "source": [
    "    for word in query:\n",
    "        generate states for in-word corrections\n",
    "        for each index in word:\n",
    "            split the word on index\n",
    "            if left fragment + right fragment in dictionary:\n",
    "                add to HMM\n",
    "            else if unscramble(left fragment) + unscramble(right fragment):\n",
    "                add to HMM\n",
    "        if word + next word in dictionary:\n",
    "            add to HMM\n",
    "        if unscramble(word) + unscramble(next word) in dictionary:\n",
    "            add to HMM"
   ]
  },
  {
   "cell_type": "markdown",
   "metadata": {},
   "source": [
    "And seeing as keeping the data in sets and dictionaries allows for a very good runtime, the above code would actually work despite being signficantly slower.  If I had more time I could've actually implemented this.  However, how correct would these states even be?"
   ]
  },
  {
   "cell_type": "markdown",
   "metadata": {},
   "source": [
    "Software companies that use a website with a search feature -- amazon, youtube, etsy -- will track consecutive searches (and probably many other things as well).  If a user makes a typo and is therefore unable to find what they're looking for, they will correct their query and search again. These queries are assembled into a data set, which can be used to train a deep learning network to generate hidden states.  This process would generate states based on what typos users actually make.  Clearly this is far superior.\n",
    "\n",
    "On a less important note, we could also use this data for a new heuristic for typos and to find the weights for each feature vector.  "
   ]
  },
  {
   "cell_type": "markdown",
   "metadata": {},
   "source": [
    "# References\n",
    "[1] A Generalized Hidden Markov Model with Discriminative Training for Query Spelling Correction http://times.cs.uiuc.edu/czhai/pub/sigir12-spelling.pdf\n",
    "\n",
    "[2] Viterbi Algorithm https://en.wikipedia.org/wiki/Viterbi_algorithm"
   ]
  }
 ],
 "metadata": {
  "@webio": {
   "lastCommId": null,
   "lastKernelId": null
  },
  "kernelspec": {
   "display_name": "Python 3",
   "language": "python",
   "name": "python3"
  },
  "language_info": {
   "codemirror_mode": {
    "name": "ipython",
    "version": 3
   },
   "file_extension": ".py",
   "mimetype": "text/x-python",
   "name": "python",
   "nbconvert_exporter": "python",
   "pygments_lexer": "ipython3",
   "version": "3.7.4"
  },
  "toc": {
   "base_numbering": 1,
   "nav_menu": {},
   "number_sections": false,
   "sideBar": true,
   "skip_h1_title": false,
   "title_cell": "Table of Contents",
   "title_sidebar": "Contents",
   "toc_cell": false,
   "toc_position": {},
   "toc_section_display": true,
   "toc_window_display": false
  }
 },
 "nbformat": 4,
 "nbformat_minor": 4
}
